{
 "cells": [
  {
   "cell_type": "code",
   "execution_count": 1,
   "metadata": {},
   "outputs": [
    {
     "name": "stderr",
     "output_type": "stream",
     "text": [
      "/usr/local/lib/python3.6/site-packages/h5py/__init__.py:36: FutureWarning: Conversion of the second argument of issubdtype from `float` to `np.floating` is deprecated. In future, it will be treated as `np.float64 == np.dtype(float).type`.\n",
      "  from ._conv import register_converters as _register_converters\n",
      "/usr/local/lib/python3.6/site-packages/sklearn/cross_validation.py:41: DeprecationWarning: This module was deprecated in version 0.18 in favor of the model_selection module into which all the refactored classes and functions are moved. Also note that the interface of the new CV iterators are different from that of this module. This module will be removed in 0.20.\n",
      "  \"This module will be removed in 0.20.\", DeprecationWarning)\n"
     ]
    }
   ],
   "source": [
    "import os\n",
    "import cv2\n",
    "import numpy as np\n",
    "import tensorflow as tf\n",
    "from tensorflow import keras\n",
    "import matplotlib.pyplot as plt\n",
    "from skimage.feature import hog\n",
    "from sklearn.cross_validation import train_test_split"
   ]
  },
  {
   "cell_type": "code",
   "execution_count": 2,
   "metadata": {},
   "outputs": [
    {
     "name": "stderr",
     "output_type": "stream",
     "text": [
      "/usr/local/lib/python3.6/site-packages/skimage/feature/_hog.py:248: skimage_deprecation: Argument `visualise` is deprecated and will be changed to `visualize` in v0.16\n",
      "  'be changed to `visualize` in v0.16', skimage_deprecation)\n"
     ]
    },
    {
     "data": {
      "text/plain": [
       "(112, 10368)"
      ]
     },
     "execution_count": 2,
     "metadata": {},
     "output_type": "execute_result"
    }
   ],
   "source": [
    "all_dir = []\n",
    "x = 11\n",
    "ppc = 16\n",
    "for _, dirnames, filenames in os.walk('/media/alamin/0994E29B4C356F2D/Python/New life/1/12/image/'):\n",
    "    all_dir.append(dirnames)\n",
    "image = []\n",
    "class_label = []\n",
    "class_label2 = []\n",
    "lavel_no = 0\n",
    "for i in (all_dir[0]):\n",
    "     for _, dirnames, filenames in os.walk('/media/alamin/0994E29B4C356F2D/Python/New life/1/12/image/'+i):\n",
    "        for j in filenames:\n",
    "            img = cv2.imread('/media/alamin/0994E29B4C356F2D/Python/New life/1/12/image/'+i+'/'+j)\n",
    "            img = cv2.resize(img, (200, 200))\n",
    "            gray = cv2.cvtColor(img, cv2.COLOR_BGR2GRAY)\n",
    "            laplacian = cv2.Laplacian(gray,cv2.CV_64F)\n",
    "            sobelx = cv2.Sobel(gray,cv2.CV_64F,1,0,ksize=x) #13\n",
    "            sobely = cv2.Sobel(gray,cv2.CV_64F,0,1,ksize=x)\n",
    "            sobelxy = cv2.Sobel(gray,cv2.CV_64F,1,1,ksize=x)\n",
    "            equ = cv2.equalizeHist(gray)\n",
    "            fd,hog_image = hog(equ, orientations=8, pixels_per_cell=(ppc,ppc),cells_per_block=(4, 4),block_norm= 'L2',visualise=True)\n",
    "            \n",
    "            ridge_filter = cv2.ximgproc.RidgeDetectionFilter_create()\n",
    "            gra = cv2.cvtColor(img, cv2.COLOR_BGR2GRAY)\n",
    "            \n",
    "            ridges = ridge_filter.getRidgeFilteredImage(equ)\n",
    "            #ridges = ridge_filter.getRidgeFilteredImage(img)\n",
    "            \n",
    "            a = np.array(fd)\n",
    "            #a = a.flatten()\n",
    "            \n",
    "            image.append(a)\n",
    "            class_label.append(i)\n",
    "            class_label2.append(lavel_no)\n",
    "        lavel_no += 1\n",
    "np.array(image).shape"
   ]
  },
  {
   "cell_type": "code",
   "execution_count": 3,
   "metadata": {},
   "outputs": [],
   "source": [
    "class_label2 = np.array(class_label2)\n",
    "image = np.array(image)"
   ]
  },
  {
   "cell_type": "code",
   "execution_count": 4,
   "metadata": {},
   "outputs": [],
   "source": [
    "train_images, test_images, train_labels, test_labels  = train_test_split(image, class_label2, test_size=0.20, random_state=42)"
   ]
  },
  {
   "cell_type": "code",
   "execution_count": 5,
   "metadata": {},
   "outputs": [
    {
     "name": "stdout",
     "output_type": "stream",
     "text": [
      "Epoch 1/5\n",
      "89/89 [==============================] - 0s 3ms/step - loss: 1.3070 - acc: 0.4045\n",
      "Epoch 2/5\n",
      "89/89 [==============================] - 0s 214us/step - loss: 0.9414 - acc: 0.8202\n",
      "Epoch 3/5\n",
      "89/89 [==============================] - 0s 224us/step - loss: 0.6715 - acc: 0.9663\n",
      "Epoch 4/5\n",
      "89/89 [==============================] - 0s 248us/step - loss: 0.4689 - acc: 0.9888\n",
      "Epoch 5/5\n",
      "89/89 [==============================] - 0s 207us/step - loss: 0.3394 - acc: 1.0000\n"
     ]
    },
    {
     "data": {
      "text/plain": [
       "<tensorflow.python.keras.callbacks.History at 0x7fac8ddcc2e8>"
      ]
     },
     "execution_count": 5,
     "metadata": {},
     "output_type": "execute_result"
    }
   ],
   "source": [
    "model = keras.Sequential([\n",
    "    keras.layers.Dense(20, activation=tf.nn.relu),\n",
    "    keras.layers.Dense(4, activation=tf.nn.softmax)\n",
    "])\n",
    "\n",
    "model.compile(optimizer=tf.train.AdamOptimizer(), \n",
    "              loss='sparse_categorical_crossentropy',\n",
    "              metrics=['accuracy'])\n",
    "model.fit(train_images, train_labels, epochs=5)"
   ]
  },
  {
   "cell_type": "code",
   "execution_count": 6,
   "metadata": {},
   "outputs": [
    {
     "name": "stdout",
     "output_type": "stream",
     "text": [
      "(23, 10368)\n",
      "23/23 [==============================] - 0s 2ms/step\n",
      "Test accuracy: 1.0\n"
     ]
    }
   ],
   "source": [
    "print(test_images.shape)\n",
    "test_loss, test_acc = model.evaluate(test_images, test_labels)\n",
    "print('Test accuracy:', test_acc)"
   ]
  },
  {
   "cell_type": "code",
   "execution_count": null,
   "metadata": {},
   "outputs": [],
   "source": []
  }
 ],
 "metadata": {
  "kernelspec": {
   "display_name": "Python 3",
   "language": "python",
   "name": "python3"
  },
  "language_info": {
   "codemirror_mode": {
    "name": "ipython",
    "version": 3
   },
   "file_extension": ".py",
   "mimetype": "text/x-python",
   "name": "python",
   "nbconvert_exporter": "python",
   "pygments_lexer": "ipython3",
   "version": "3.6.4"
  }
 },
 "nbformat": 4,
 "nbformat_minor": 2
}
