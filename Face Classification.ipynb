{
 "cells": [
  {
   "cell_type": "code",
   "execution_count": 11,
   "metadata": {},
   "outputs": [],
   "source": [
    "import os\n",
    "import sys\n",
    "import cv2\n",
    "import glob\n",
    "import imutils\n",
    "import numpy as np\n",
    "import pandas as pd\n",
    "from sklearn import svm\n",
    "from sklearn.svm import SVC, SVR\n",
    "from sklearn.neighbors import KNeighborsClassifier\n",
    "from sklearn.cross_validation import train_test_split\n",
    "from sklearn.model_selection import GridSearchCV\n",
    "from sklearn.metrics import classification_report\n",
    "from sklearn.metrics import confusion_matrix\n",
    "from sklearn.metrics import accuracy_score \n",
    "from skimage.feature import hog"
   ]
  },
  {
   "cell_type": "code",
   "execution_count": 2,
   "metadata": {},
   "outputs": [
    {
     "name": "stderr",
     "output_type": "stream",
     "text": [
      "/usr/local/lib/python3.6/site-packages/skimage/feature/_hog.py:248: skimage_deprecation: Argument `visualise` is deprecated and will be changed to `visualize` in v0.16\n",
      "  'be changed to `visualize` in v0.16', skimage_deprecation)\n"
     ]
    },
    {
     "data": {
      "text/plain": [
       "(112, 8192)"
      ]
     },
     "execution_count": 2,
     "metadata": {},
     "output_type": "execute_result"
    }
   ],
   "source": [
    "all_dir = []\n",
    "x = 11\n",
    "ppc = 16\n",
    "for _, dirnames, filenames in os.walk('image'):\n",
    "    all_dir.append(dirnames)\n",
    "image = []\n",
    "classs = []\n",
    "for i in (all_dir[0]):\n",
    "     for _, dirnames, filenames in os.walk('image/'+i):\n",
    "        for j in filenames:\n",
    "            img = cv2.imread('image/'+i+'/'+j)\n",
    "            img = cv2.resize(img, (180, 180))\n",
    "            gray = cv2.cvtColor(img, cv2.COLOR_BGR2GRAY)\n",
    "            laplacian = cv2.Laplacian(gray,cv2.CV_64F)\n",
    "            sobelx = cv2.Sobel(gray,cv2.CV_64F,1,0,ksize=x) #13\n",
    "            sobely = cv2.Sobel(gray,cv2.CV_64F,0,1,ksize=x)\n",
    "            sobelxy = cv2.Sobel(gray,cv2.CV_64F,1,1,ksize=x)\n",
    "            equ = cv2.equalizeHist(gray)\n",
    "            fd,hog_image = hog(equ, orientations=8, pixels_per_cell=(ppc,ppc),cells_per_block=(4, 4),block_norm= 'L2',visualise=True)\n",
    "            \n",
    "            ridge_filter = cv2.ximgproc.RidgeDetectionFilter_create()\n",
    "            gra = cv2.cvtColor(img, cv2.COLOR_BGR2GRAY)\n",
    "            \n",
    "            ridges = ridge_filter.getRidgeFilteredImage(equ)\n",
    "            #ridges = ridge_filter.getRidgeFilteredImage(img)\n",
    "            \n",
    "            a = np.array(fd)\n",
    "            a = a.flatten()\n",
    "            b = np.array(img)\n",
    "            b=b.flatten()\n",
    "            image.append(a)\n",
    "            classs.append(i)\n",
    "np.array(image).shape"
   ]
  },
  {
   "cell_type": "code",
   "execution_count": 6,
   "metadata": {},
   "outputs": [],
   "source": [
    "X_train, X_test, y_train, y_test = train_test_split(image, classs, test_size=0.20, random_state=42)"
   ]
  },
  {
   "cell_type": "code",
   "execution_count": 7,
   "metadata": {},
   "outputs": [
    {
     "name": "stdout",
     "output_type": "stream",
     "text": [
      "SVC(C=1000.0, cache_size=200, class_weight='balanced', coef0=0.0,\n",
      "  decision_function_shape='ovr', degree=3, gamma=0.0001, kernel='rbf',\n",
      "  max_iter=-1, probability=True, random_state=None, shrinking=True,\n",
      "  tol=0.001, verbose=False)\n"
     ]
    }
   ],
   "source": [
    "param_grid = {'C': [1e3, 5e3, 1e4, 5e4, 1e5],\n",
    "              'gamma': [0.0001, 0.0005, 0.001, 0.005, 0.01, 0.1], }\n",
    "clf = GridSearchCV(SVC(kernel='rbf', class_weight='balanced',probability=True), param_grid)\n",
    "clf = clf.fit(X_train, y_train)\n",
    "\n",
    "print(clf.best_estimator_)"
   ]
  },
  {
   "cell_type": "code",
   "execution_count": 16,
   "metadata": {},
   "outputs": [
    {
     "name": "stdout",
     "output_type": "stream",
     "text": [
      "1.0\n"
     ]
    }
   ],
   "source": [
    "y_pred = clf.predict(image)\n",
    "print(accuracy_score(classs, y_pred))"
   ]
  },
  {
   "cell_type": "code",
   "execution_count": 8,
   "metadata": {},
   "outputs": [
    {
     "name": "stdout",
     "output_type": "stream",
     "text": [
      "             precision    recall  f1-score   support\n",
      "\n",
      "     Alamin       1.00      1.00      1.00         7\n",
      "      Faruq       1.00      1.00      1.00         8\n",
      "      Monir       1.00      1.00      1.00         3\n",
      "     jaydeb       1.00      1.00      1.00         5\n",
      "\n",
      "avg / total       1.00      1.00      1.00        23\n",
      "\n"
     ]
    }
   ],
   "source": [
    "y_pred = clf.predict(X_test)\n",
    "print(classification_report(y_test, y_pred))"
   ]
  },
  {
   "cell_type": "code",
   "execution_count": 15,
   "metadata": {},
   "outputs": [
    {
     "name": "stdout",
     "output_type": "stream",
     "text": [
      "             precision    recall  f1-score   support\n",
      "\n",
      "     Alamin       1.00      1.00      1.00         7\n",
      "      Faruq       1.00      1.00      1.00         8\n",
      "      Monir       1.00      1.00      1.00         3\n",
      "     jaydeb       1.00      1.00      1.00         5\n",
      "\n",
      "avg / total       1.00      1.00      1.00        23\n",
      "\n",
      "[[7 0 0 0]\n",
      " [0 8 0 0]\n",
      " [0 0 3 0]\n",
      " [0 0 0 5]]\n"
     ]
    }
   ],
   "source": [
    "print(confusion_matrix(y_test, y_pred))"
   ]
  },
  {
   "cell_type": "code",
   "execution_count": null,
   "metadata": {},
   "outputs": [],
   "source": []
  }
 ],
 "metadata": {
  "kernelspec": {
   "display_name": "Python 3",
   "language": "python",
   "name": "python3"
  },
  "language_info": {
   "codemirror_mode": {
    "name": "ipython",
    "version": 3
   },
   "file_extension": ".py",
   "mimetype": "text/x-python",
   "name": "python",
   "nbconvert_exporter": "python",
   "pygments_lexer": "ipython3",
   "version": "3.6.4"
  }
 },
 "nbformat": 4,
 "nbformat_minor": 2
}
