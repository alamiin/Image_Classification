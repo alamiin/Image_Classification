{
 "cells": [
  {
   "cell_type": "code",
   "execution_count": 1,
   "metadata": {},
   "outputs": [
    {
     "name": "stderr",
     "output_type": "stream",
     "text": [
      "/usr/local/lib/python3.6/site-packages/h5py/__init__.py:36: FutureWarning: Conversion of the second argument of issubdtype from `float` to `np.floating` is deprecated. In future, it will be treated as `np.float64 == np.dtype(float).type`.\n",
      "  from ._conv import register_converters as _register_converters\n",
      "Using TensorFlow backend.\n",
      "/usr/local/lib/python3.6/site-packages/sklearn/cross_validation.py:41: DeprecationWarning: This module was deprecated in version 0.18 in favor of the model_selection module into which all the refactored classes and functions are moved. Also note that the interface of the new CV iterators are different from that of this module. This module will be removed in 0.20.\n",
      "  \"This module will be removed in 0.20.\", DeprecationWarning)\n"
     ]
    }
   ],
   "source": [
    "from keras.models import Sequential\n",
    "from keras.layers import Dense, Conv2D, MaxPooling2D, Dropout, Flatten, Activation\n",
    "import os\n",
    "import cv2\n",
    "import numpy as np\n",
    "import tensorflow as tf\n",
    "#from tensorflow import keras\n",
    "import matplotlib.pyplot as plt\n",
    "from skimage.feature import hog\n",
    "from sklearn.cross_validation import train_test_split"
   ]
  },
  {
   "cell_type": "code",
   "execution_count": 2,
   "metadata": {},
   "outputs": [
    {
     "name": "stdout",
     "output_type": "stream",
     "text": [
      "Images:  (112, 50, 50, 3)\n",
      "Lavel of clases:  (112,)\n"
     ]
    }
   ],
   "source": [
    "all_dir = []\n",
    "x = 11\n",
    "ppc = 16\n",
    "for _, dirnames, filenames in os.walk('/media/alamin/0994E29B4C356F2D/Python/New life/1/12/image/'):\n",
    "    all_dir.append(dirnames)\n",
    "image = []\n",
    "class_label = []\n",
    "class_label2 = []\n",
    "lavel_no = 0\n",
    "for i in (all_dir[0]):\n",
    "     for _, dirnames, filenames in os.walk('/media/alamin/0994E29B4C356F2D/Python/New life/1/12/image/'+i):\n",
    "        for j in filenames:\n",
    "            img = cv2.imread('/media/alamin/0994E29B4C356F2D/Python/New life/1/12/image/'+i+'/'+j)\n",
    "            img = cv2.resize(img, (50, 50))\n",
    "            gray = cv2.cvtColor(img, cv2.COLOR_BGR2GRAY)\n",
    "            #equH = cv2.equalizeHist(img)\n",
    "            image.append(img)\n",
    "            class_label.append(i)\n",
    "            class_label2.append(lavel_no)\n",
    "        lavel_no += 1\n",
    "class_label2 = np.array(class_label2)\n",
    "image = np.array(image)\n",
    "print(\"Images: \",image.shape)\n",
    "print(\"Lavel of clases: \",class_label2.shape)"
   ]
  },
  {
   "cell_type": "code",
   "execution_count": 13,
   "metadata": {},
   "outputs": [
    {
     "name": "stdout",
     "output_type": "stream",
     "text": [
      "_________________________________________________________________\n",
      "Layer (type)                 Output Shape              Param #   \n",
      "=================================================================\n",
      "conv2d_8 (Conv2D)            (None, 50, 50, 32)        896       \n",
      "_________________________________________________________________\n",
      "activation_12 (Activation)   (None, 50, 50, 32)        0         \n",
      "_________________________________________________________________\n",
      "conv2d_9 (Conv2D)            (None, 48, 48, 64)        18496     \n",
      "_________________________________________________________________\n",
      "activation_13 (Activation)   (None, 48, 48, 64)        0         \n",
      "_________________________________________________________________\n",
      "max_pooling2d_4 (MaxPooling2 (None, 24, 24, 64)        0         \n",
      "_________________________________________________________________\n",
      "dropout_6 (Dropout)          (None, 24, 24, 64)        0         \n",
      "_________________________________________________________________\n",
      "flatten_3 (Flatten)          (None, 36864)             0         \n",
      "_________________________________________________________________\n",
      "dense_5 (Dense)              (None, 512)               18874880  \n",
      "_________________________________________________________________\n",
      "activation_14 (Activation)   (None, 512)               0         \n",
      "_________________________________________________________________\n",
      "dropout_7 (Dropout)          (None, 512)               0         \n",
      "_________________________________________________________________\n",
      "dense_6 (Dense)              (None, 4)                 2052      \n",
      "_________________________________________________________________\n",
      "activation_15 (Activation)   (None, 4)                 0         \n",
      "=================================================================\n",
      "Total params: 18,896,324\n",
      "Trainable params: 18,896,324\n",
      "Non-trainable params: 0\n",
      "_________________________________________________________________\n"
     ]
    }
   ],
   "source": [
    "input_shape = (50,50,3)\n",
    "num_classes = lavel_no\n",
    "model = Sequential()\n",
    "\n",
    "model.add(Conv2D(32, (3, 3), padding='same', input_shape=input_shape))\n",
    "model.add(Activation('relu'))\n",
    "\n",
    "\n",
    "model.add(Conv2D(64, (3, 3)))\n",
    "model.add(Activation('relu'))\n",
    "model.add(MaxPooling2D(pool_size=(2, 2)))\n",
    "model.add(Dropout(0.25))\n",
    "\n",
    "model.add(Flatten())\n",
    "model.add(Dense(512))\n",
    "model.add(Activation('relu'))\n",
    "model.add(Dropout(0.5))\n",
    "model.add(Dense(num_classes))\n",
    "model.add(Activation('softmax'))\n",
    "model.compile(loss='sparse_categorical_crossentropy', optimizer = 'adadelta', metrics = ['accuracy'])\n",
    "model.summary()"
   ]
  },
  {
   "cell_type": "code",
   "execution_count": 14,
   "metadata": {},
   "outputs": [],
   "source": [
    "image = image/255.0"
   ]
  },
  {
   "cell_type": "code",
   "execution_count": 15,
   "metadata": {},
   "outputs": [],
   "source": [
    "\n",
    "train_images, test_images, train_labels, test_labels  = train_test_split(image, class_label2, test_size=0.20, random_state=42)\n",
    "train_images = np.array(train_images)"
   ]
  },
  {
   "cell_type": "code",
   "execution_count": 16,
   "metadata": {},
   "outputs": [
    {
     "name": "stdout",
     "output_type": "stream",
     "text": [
      "(89, 50, 50, 3)\n",
      "[2 3 2 0 3 2 2 0 1 1 0 1 2 2 1 2 0 3 2 1 1 0 3 1 3 0 1 2 3 0 0 3 3 0 0 2 1\n",
      " 0 2 0 0 0 1 3 0 2 3 3 1 1 3 1 2 2 3 3 1 2 1 3 2 2 1 3 2 2 3 1 1 3 0 1 0 0\n",
      " 0 3 3 2 3 2 3 0 2 2 3 0 3 1 3]\n"
     ]
    }
   ],
   "source": [
    "print(train_images.shape)\n",
    "print(train_labels)"
   ]
  },
  {
   "cell_type": "code",
   "execution_count": 18,
   "metadata": {},
   "outputs": [
    {
     "name": "stdout",
     "output_type": "stream",
     "text": [
      "Epoch 1/100\n",
      "89/89 [==============================] - 2s - loss: 1.3803 - acc: 0.2921     \n",
      "Epoch 2/100\n",
      "89/89 [==============================] - 2s - loss: 1.3850 - acc: 0.2472     \n",
      "Epoch 3/100\n",
      "89/89 [==============================] - 2s - loss: 1.3821 - acc: 0.2809     \n",
      "Epoch 4/100\n",
      "89/89 [==============================] - 2s - loss: 1.3813 - acc: 0.2809     \n",
      "Epoch 5/100\n",
      "89/89 [==============================] - 2s - loss: 1.3852 - acc: 0.2809     \n",
      "Epoch 6/100\n",
      "89/89 [==============================] - 2s - loss: 1.3926 - acc: 0.2809     \n",
      "Epoch 7/100\n",
      "89/89 [==============================] - 3s - loss: 1.3873 - acc: 0.2809     \n",
      "Epoch 8/100\n",
      "89/89 [==============================] - 3s - loss: 1.3842 - acc: 0.2809     \n",
      "Epoch 9/100\n",
      "89/89 [==============================] - 3s - loss: 1.3833 - acc: 0.2809     \n",
      "Epoch 10/100\n",
      "89/89 [==============================] - 3s - loss: 1.3835 - acc: 0.2809     \n",
      "Epoch 11/100\n",
      "89/89 [==============================] - 3s - loss: 1.3839 - acc: 0.2809     \n",
      "Epoch 12/100\n",
      "89/89 [==============================] - 2s - loss: 1.3780 - acc: 0.2809     \n",
      "Epoch 13/100\n",
      "89/89 [==============================] - 2s - loss: 1.3829 - acc: 0.2697     \n",
      "Epoch 14/100\n",
      "89/89 [==============================] - 3s - loss: 1.3799 - acc: 0.2809     \n",
      "Epoch 15/100\n",
      "89/89 [==============================] - 3s - loss: 1.3826 - acc: 0.2809     \n",
      "Epoch 16/100\n",
      "89/89 [==============================] - 3s - loss: 1.3775 - acc: 0.2697     \n",
      "Epoch 17/100\n",
      "89/89 [==============================] - 3s - loss: 1.3780 - acc: 0.2809     \n",
      "Epoch 18/100\n",
      "89/89 [==============================] - 4s - loss: 1.3736 - acc: 0.2809     \n",
      "Epoch 19/100\n",
      "89/89 [==============================] - 3s - loss: 1.3723 - acc: 0.2584     \n",
      "Epoch 20/100\n",
      "89/89 [==============================] - 3s - loss: 1.3716 - acc: 0.2809     \n",
      "Epoch 21/100\n",
      "89/89 [==============================] - 2s - loss: 1.3760 - acc: 0.2921     \n",
      "Epoch 22/100\n",
      "89/89 [==============================] - 3s - loss: 1.3662 - acc: 0.2697     \n",
      "Epoch 23/100\n",
      "89/89 [==============================] - 3s - loss: 1.3602 - acc: 0.3146     \n",
      "Epoch 24/100\n",
      "89/89 [==============================] - 3s - loss: 1.3524 - acc: 0.3483     \n",
      "Epoch 25/100\n",
      "89/89 [==============================] - 3s - loss: 1.3508 - acc: 0.2697     \n",
      "Epoch 26/100\n",
      "89/89 [==============================] - 4s - loss: 1.3410 - acc: 0.4270     \n",
      "Epoch 27/100\n",
      "89/89 [==============================] - 4s - loss: 1.3463 - acc: 0.3820     \n",
      "Epoch 28/100\n",
      "89/89 [==============================] - 3s - loss: 1.3297 - acc: 0.3933     \n",
      "Epoch 29/100\n",
      "89/89 [==============================] - 3s - loss: 1.3137 - acc: 0.4831     \n",
      "Epoch 30/100\n",
      "89/89 [==============================] - 2s - loss: 1.3150 - acc: 0.3596     \n",
      "Epoch 31/100\n",
      "89/89 [==============================] - 2s - loss: 1.2336 - acc: 0.5730     \n",
      "Epoch 32/100\n",
      "89/89 [==============================] - 3s - loss: 1.2319 - acc: 0.5506     \n",
      "Epoch 33/100\n",
      "89/89 [==============================] - 3s - loss: 1.2025 - acc: 0.4831     \n",
      "Epoch 34/100\n",
      "89/89 [==============================] - 3s - loss: 1.1349 - acc: 0.6180     \n",
      "Epoch 35/100\n",
      "89/89 [==============================] - 2s - loss: 1.2395 - acc: 0.3933     \n",
      "Epoch 36/100\n",
      "89/89 [==============================] - 2s - loss: 1.3828 - acc: 0.3258     \n",
      "Epoch 37/100\n",
      "89/89 [==============================] - 2s - loss: 1.3941 - acc: 0.3034     \n",
      "Epoch 38/100\n",
      "89/89 [==============================] - 3s - loss: 1.3698 - acc: 0.2697     \n",
      "Epoch 39/100\n",
      "89/89 [==============================] - 4s - loss: 1.2463 - acc: 0.4382     \n",
      "Epoch 40/100\n",
      "89/89 [==============================] - 3s - loss: 1.1185 - acc: 0.5843     \n",
      "Epoch 41/100\n",
      "89/89 [==============================] - 3s - loss: 1.2338 - acc: 0.4494     \n",
      "Epoch 42/100\n",
      "89/89 [==============================] - 2s - loss: 1.3194 - acc: 0.6180     \n",
      "Epoch 43/100\n",
      "89/89 [==============================] - 2s - loss: 1.5504 - acc: 0.3483     \n",
      "Epoch 44/100\n",
      "89/89 [==============================] - 3s - loss: 1.4059 - acc: 0.2697     \n",
      "Epoch 45/100\n",
      "89/89 [==============================] - 4s - loss: 1.3838 - acc: 0.2584     \n",
      "Epoch 46/100\n",
      "89/89 [==============================] - 3s - loss: 1.3756 - acc: 0.3034     \n",
      "Epoch 47/100\n",
      "89/89 [==============================] - 2s - loss: 1.3771 - acc: 0.3034     \n",
      "Epoch 48/100\n",
      "89/89 [==============================] - 3s - loss: 1.3744 - acc: 0.2809     \n",
      "Epoch 49/100\n",
      "89/89 [==============================] - 3s - loss: 1.3579 - acc: 0.3034     \n",
      "Epoch 50/100\n",
      "89/89 [==============================] - 3s - loss: 1.3668 - acc: 0.3146     \n",
      "Epoch 51/100\n",
      "89/89 [==============================] - 3s - loss: 1.3640 - acc: 0.3258     \n",
      "Epoch 52/100\n",
      "89/89 [==============================] - 3s - loss: 1.3470 - acc: 0.3820     \n",
      "Epoch 53/100\n",
      "89/89 [==============================] - 3s - loss: 1.3522 - acc: 0.3708     \n",
      "Epoch 54/100\n",
      "89/89 [==============================] - 3s - loss: 1.3396 - acc: 0.3371     \n",
      "Epoch 55/100\n",
      "89/89 [==============================] - 3s - loss: 1.3316 - acc: 0.3820     \n",
      "Epoch 56/100\n",
      "89/89 [==============================] - 3s - loss: 1.3165 - acc: 0.5169     \n",
      "Epoch 57/100\n",
      "89/89 [==============================] - 3s - loss: 1.2932 - acc: 0.5393     \n",
      "Epoch 58/100\n",
      "89/89 [==============================] - 3s - loss: 1.2617 - acc: 0.6629     \n",
      "Epoch 59/100\n",
      "89/89 [==============================] - 3s - loss: 1.2824 - acc: 0.5730     \n",
      "Epoch 60/100\n",
      "89/89 [==============================] - 3s - loss: 1.2569 - acc: 0.4157     \n",
      "Epoch 61/100\n",
      "89/89 [==============================] - 3s - loss: 1.2670 - acc: 0.6067     \n",
      "Epoch 62/100\n",
      "89/89 [==============================] - 3s - loss: 1.0680 - acc: 0.8764     \n",
      "Epoch 63/100\n",
      "89/89 [==============================] - 3s - loss: 0.9222 - acc: 0.7416     \n",
      "Epoch 64/100\n",
      "89/89 [==============================] - 2s - loss: 0.8665 - acc: 0.7528     \n",
      "Epoch 65/100\n",
      "89/89 [==============================] - 3s - loss: 0.7871 - acc: 0.7640     \n",
      "Epoch 66/100\n",
      "89/89 [==============================] - 3s - loss: 0.7594 - acc: 0.7640     \n",
      "Epoch 67/100\n",
      "89/89 [==============================] - 3s - loss: 0.8646 - acc: 0.6742     \n",
      "Epoch 68/100\n",
      "89/89 [==============================] - 3s - loss: 0.7796 - acc: 0.6854     \n",
      "Epoch 69/100\n",
      "89/89 [==============================] - 3s - loss: 0.5602 - acc: 0.8652     \n",
      "Epoch 70/100\n",
      "89/89 [==============================] - 3s - loss: 0.4665 - acc: 0.8764     \n",
      "Epoch 71/100\n",
      "89/89 [==============================] - 3s - loss: 0.4333 - acc: 0.9213     \n",
      "Epoch 72/100\n",
      "89/89 [==============================] - 4s - loss: 0.6153 - acc: 0.7640     \n",
      "Epoch 73/100\n",
      "89/89 [==============================] - 3s - loss: 0.9744 - acc: 0.5281     \n",
      "Epoch 74/100\n",
      "89/89 [==============================] - 3s - loss: 0.9740 - acc: 0.6292     \n",
      "Epoch 75/100\n",
      "89/89 [==============================] - 3s - loss: 0.8059 - acc: 0.7753     \n",
      "Epoch 76/100\n",
      "89/89 [==============================] - 3s - loss: 0.7407 - acc: 0.9101     \n",
      "Epoch 77/100\n",
      "89/89 [==============================] - 3s - loss: 0.6797 - acc: 0.8427     \n",
      "Epoch 78/100\n",
      "89/89 [==============================] - 4s - loss: 0.6451 - acc: 0.8764     \n",
      "Epoch 79/100\n",
      "89/89 [==============================] - 4s - loss: 0.5637 - acc: 0.9213     \n",
      "Epoch 80/100\n",
      "89/89 [==============================] - 3s - loss: 0.5234 - acc: 0.9326     \n",
      "Epoch 81/100\n",
      "89/89 [==============================] - 3s - loss: 0.4680 - acc: 0.9326     \n",
      "Epoch 82/100\n",
      "89/89 [==============================] - 3s - loss: 0.3836 - acc: 0.9663     \n",
      "Epoch 83/100\n",
      "89/89 [==============================] - 2s - loss: 0.4286 - acc: 0.8764     \n",
      "Epoch 84/100\n",
      "89/89 [==============================] - 3s - loss: 0.3698 - acc: 0.9438     \n",
      "Epoch 85/100\n",
      "89/89 [==============================] - 3s - loss: 0.3249 - acc: 0.9438     \n",
      "Epoch 86/100\n",
      "89/89 [==============================] - 2s - loss: 0.3024 - acc: 0.9551     \n",
      "Epoch 87/100\n",
      "89/89 [==============================] - 3s - loss: 0.3080 - acc: 0.9551     \n",
      "Epoch 88/100\n",
      "89/89 [==============================] - 4s - loss: 0.2615 - acc: 0.9551     \n",
      "Epoch 89/100\n",
      "89/89 [==============================] - 3s - loss: 0.2651 - acc: 0.9438     \n",
      "Epoch 90/100\n",
      "89/89 [==============================] - 4s - loss: 0.2309 - acc: 0.9663     \n",
      "Epoch 91/100\n"
     ]
    },
    {
     "name": "stdout",
     "output_type": "stream",
     "text": [
      "89/89 [==============================] - 3s - loss: 0.2455 - acc: 0.9663     \n",
      "Epoch 92/100\n",
      "89/89 [==============================] - 3s - loss: 0.1666 - acc: 0.9663     \n",
      "Epoch 93/100\n",
      "89/89 [==============================] - 3s - loss: 0.1751 - acc: 0.9775     \n",
      "Epoch 94/100\n",
      "89/89 [==============================] - 5s - loss: 0.1569 - acc: 0.9775     \n",
      "Epoch 95/100\n",
      "89/89 [==============================] - 5s - loss: 0.1986 - acc: 0.9551     \n",
      "Epoch 96/100\n",
      "89/89 [==============================] - 5s - loss: 0.1501 - acc: 0.9775     \n",
      "Epoch 97/100\n",
      "89/89 [==============================] - 4s - loss: 0.1588 - acc: 0.9438     \n",
      "Epoch 98/100\n",
      "89/89 [==============================] - 3s - loss: 0.1239 - acc: 0.9888     \n",
      "Epoch 99/100\n",
      "89/89 [==============================] - 3s - loss: 0.1182 - acc: 0.9888     \n",
      "Epoch 100/100\n",
      "89/89 [==============================] - 3s - loss: 0.1205 - acc: 0.9888     \n"
     ]
    },
    {
     "data": {
      "text/plain": [
       "<keras.callbacks.History at 0x7f7bad09db70>"
      ]
     },
     "execution_count": 18,
     "metadata": {},
     "output_type": "execute_result"
    }
   ],
   "source": [
    "model.fit(train_images, np.array(train_labels), epochs=100)"
   ]
  },
  {
   "cell_type": "code",
   "execution_count": 19,
   "metadata": {},
   "outputs": [
    {
     "name": "stdout",
     "output_type": "stream",
     "text": [
      "(23, 50, 50, 3)\n",
      "23/23 [==============================] - 0s\n",
      "Test accuracy: 0.782608687877655\n",
      "Test Loss: 0.4397197365760803\n"
     ]
    }
   ],
   "source": [
    "print(test_images.shape)\n",
    "test_loss, test_acc = model.evaluate(test_images, test_labels)\n",
    "print('Test accuracy:', test_acc)\n",
    "print('Test Loss:', test_loss)"
   ]
  },
  {
   "cell_type": "code",
   "execution_count": null,
   "metadata": {},
   "outputs": [],
   "source": []
  }
 ],
 "metadata": {
  "kernelspec": {
   "display_name": "Python 3",
   "language": "python",
   "name": "python3"
  },
  "language_info": {
   "codemirror_mode": {
    "name": "ipython",
    "version": 3
   },
   "file_extension": ".py",
   "mimetype": "text/x-python",
   "name": "python",
   "nbconvert_exporter": "python",
   "pygments_lexer": "ipython3",
   "version": "3.6.4"
  }
 },
 "nbformat": 4,
 "nbformat_minor": 2
}
